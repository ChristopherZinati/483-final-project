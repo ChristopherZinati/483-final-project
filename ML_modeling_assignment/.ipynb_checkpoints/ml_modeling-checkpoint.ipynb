{
 "cells": [
  {
   "cell_type": "code",
   "execution_count": 135,
   "metadata": {},
   "outputs": [],
   "source": [
    "from pathlib import Path\n",
    "\n",
    "MAX_DATA_PATH = Path(\"C:/Users/maxpd/Desktop/483 ML/Intrusion Detection/483-final-project-datasets/OPCUA_dataset_public.csv\")\n",
    "CHRIS_DATA_PATH = Path(\"/Users/chriszinati/Desktop/CPSC-483/final project datasets/483-final-project-datasets/OPCUA_dataset_public.csv\")\n",
    "MAX_DATA_PATH_REDUCED_CLEANED = Path(\"C:/Users/maxpd/Desktop/483 ML/Intrusion Detection/483-final-project-datasets\")\n",
    "CHRIS_DATA_PATH_CLEANED = Path(\"/Users/chriszinati/Desktop/CPSC-483/final project datasets/483-final-project-datasets/cleaned_data_for_OCPUA.csv\")\n",
    "\n"
   ]
  },
  {
   "cell_type": "markdown",
   "metadata": {},
   "source": [
    "**build 2 models of same algorithm using full and reduced feature set**\n",
    "we are using random forest here.\n",
    "1. import all necessary libraries"
   ]
  },
  {
   "cell_type": "code",
   "execution_count": 136,
   "metadata": {},
   "outputs": [],
   "source": [
    "import pickle\n",
    "import pandas as pd\n",
    "from sklearn.model_selection import train_test_split\n",
    "from sklearn.ensemble import RandomForestClassifier"
   ]
  },
  {
   "cell_type": "markdown",
   "metadata": {},
   "source": [
    "2. create full feature and reduced datasets from csv (we already reduced features during preprocessing, so we will bring the original dataset and clean it but without dropping features (only dropping instances that aren't DDoS or regular traffic))"
   ]
  },
  {
   "cell_type": "code",
   "execution_count": 137,
   "metadata": {},
   "outputs": [],
   "source": [
    "full_features = pd.read_csv(MAX_DATA_PATH)\n",
    "X_train_path = MAX_DATA_PATH_REDUCED_CLEANED / \"X_train_preprocessed.csv\"\n",
    "X_test_path = MAX_DATA_PATH_REDUCED_CLEANED / \"X_test_preprocessed.csv\"\n",
    "y_train_path = MAX_DATA_PATH_REDUCED_CLEANED / \"y_train.csv\"\n",
    "y_test_path = MAX_DATA_PATH_REDUCED_CLEANED / \"y_test.csv\"\n",
    "\n",
    "X_reduced_train = pd.read_csv(X_train_path)\n",
    "X_reduced_test = pd.read_csv(X_test_path)\n",
    "y_reduced_train = pd.read_csv(y_train_path).squeeze()\n",
    "y_reduced_test = pd.read_csv(y_test_path).squeeze()\n",
    "\n",
    "full_features = full_features.dropna(axis=0) #drop rows with missing values\n",
    "instancesToDrop= ['MITM', 'Impersonation'] \n",
    "full_features = (full_features[full_features.multi_label.isin(instancesToDrop) == False]) #drop instances of MITM and Impersonation\n",
    "full_features = full_features.drop('multi_label', axis=1) #drop multiclass label\n",
    "\n",
    "from sklearn.preprocessing import LabelEncoder\n",
    "\n",
    "for col in ['proto', 'service', 'service_errors', 'status_errors', 'src_ip', 'dst_ip']:\n",
    "    if full_features[col].dtype == 'object' or full_features[col].dtype.name == 'category':\n",
    "        le = LabelEncoder()\n",
    "        full_features[col] = le.fit_transform(full_features[col])\n",
    "\n",
    "\n",
    "X_full = full_features.iloc[:, :-1].values\n",
    "y_full = full_features.iloc[:, -1]\n",
    "\n"
   ]
  },
  {
   "cell_type": "code",
   "execution_count": 138,
   "metadata": {},
   "outputs": [
    {
     "name": "stdout",
     "output_type": "stream",
     "text": [
      "          flowStart  flowInterval  count  same_srv_rate\n",
      "0      1.583856e+09      0.003295    582          100.0\n",
      "1      1.583856e+09      0.003840    572          100.0\n",
      "2      1.583856e+09      0.187930     21          100.0\n",
      "3      1.583861e+09      0.699451     27          100.0\n",
      "4      1.583859e+09      0.133568     13          100.0\n",
      "...             ...           ...    ...            ...\n",
      "52795  1.583856e+09      0.003578    569          100.0\n",
      "52796  1.583856e+09      0.003383    569          100.0\n",
      "52797  1.583856e+09      0.003542    577          100.0\n",
      "52798  1.583856e+09      0.003376    580          100.0\n",
      "52799  1.583856e+09      0.005035    574          100.0\n",
      "\n",
      "[52800 rows x 4 columns]\n"
     ]
    }
   ],
   "source": [
    "X_reduced_train = X_reduced_train.drop(columns=['flowDuration'])\n",
    "X_reduced_test = X_reduced_test.drop(columns=['flowDuration'])\n",
    "print(X_reduced_train)"
   ]
  },
  {
   "cell_type": "markdown",
   "metadata": {},
   "source": [
    "3. train 2 random forest models on reduced and full-feature training sets"
   ]
  },
  {
   "cell_type": "code",
   "execution_count": 161,
   "metadata": {},
   "outputs": [],
   "source": [
    "X_train, X_test, y_train, y_test = train_test_split(X_full, y_full, test_size=0.2, random_state=42)\n",
    "\n",
    "model1 = RandomForestClassifier(n_estimators=100, max_depth = 12, min_samples_split = 10, min_samples_leaf = 5, random_state=42)\n",
    "model2 = RandomForestClassifier(n_estimators=100, random_state=42)\n",
    "\n",
    "model1.fit(X_reduced_train, y_reduced_train)\n",
    "model2.fit(X_train, y_train)\n",
    "\n",
    "filename='finalized_model_M1_1.sav'\n",
    "filename2='finalized_model_M2_1.sav'\n",
    "\n",
    "pickle.dump(model1, open(filename, 'wb'))\n",
    "pickle.dump(model2, open(filename2, 'wb'))"
   ]
  },
  {
   "cell_type": "markdown",
   "metadata": {},
   "source": [
    "**load the saved models from disc and test**"
   ]
  },
  {
   "cell_type": "code",
   "execution_count": 162,
   "metadata": {},
   "outputs": [],
   "source": [
    "loaded_model_1 = pickle.load(open(filename, 'rb'))\n",
    "loaded_model_2 = pickle.load(open(filename2, 'rb'))"
   ]
  },
  {
   "cell_type": "code",
   "execution_count": 163,
   "metadata": {},
   "outputs": [
    {
     "name": "stdout",
     "output_type": "stream",
     "text": [
      "0.9954545454545455\n",
      "1.0\n"
     ]
    }
   ],
   "source": [
    "result = loaded_model_1.score(X_reduced_test, y_reduced_test)\n",
    "result2 = loaded_model_2.score(X_test, y_test)\n",
    "\n",
    "print(result)\n",
    "print(result2)"
   ]
  },
  {
   "cell_type": "code",
   "execution_count": 164,
   "metadata": {},
   "outputs": [
    {
     "name": "stdout",
     "output_type": "stream",
     "text": [
      "Train Accuracy: 0.9958\n",
      "Test Accuracy : 0.9955\n"
     ]
    }
   ],
   "source": [
    "train_acc = loaded_model_1.score(X_reduced_train, y_reduced_train)\n",
    "test_acc = loaded_model_1.score(X_reduced_test, y_reduced_test)\n",
    "\n",
    "print(f\"Train Accuracy: {train_acc:.4f}\")\n",
    "print(f\"Test Accuracy : {test_acc:.4f}\")\n"
   ]
  },
  {
   "cell_type": "code",
   "execution_count": 165,
   "metadata": {},
   "outputs": [
    {
     "name": "stdout",
     "output_type": "stream",
     "text": [
      "[1. 1. 1. 1. 1.] 1.0\n"
     ]
    }
   ],
   "source": [
    "from sklearn.model_selection import cross_val_score, StratifiedKFold\n",
    "\n",
    "cv = StratifiedKFold(n_splits=5, shuffle=True, random_state=42)\n",
    "scores = cross_val_score(loaded_model_1, X_train, y_train, cv=cv)\n",
    "print(scores, scores.mean())\n"
   ]
  },
  {
   "cell_type": "code",
   "execution_count": 166,
   "metadata": {},
   "outputs": [
    {
     "name": "stdout",
     "output_type": "stream",
     "text": [
      "Duplicate rows: 0\n"
     ]
    }
   ],
   "source": [
    "print(\"Duplicate rows:\", X_reduced_train.duplicated().sum())\n"
   ]
  },
  {
   "cell_type": "code",
   "execution_count": 167,
   "metadata": {},
   "outputs": [
    {
     "data": {
      "image/png": "[encoded data removed]",
      "text/plain": [
       "<Figure size 1000x600 with 1 Axes>"
      ]
     },
     "metadata": {},
     "output_type": "display_data"
    }
   ],
   "source": [
    "import matplotlib.pyplot as plt\n",
    "from sklearn.model_selection import learning_curve\n",
    "import numpy as np\n",
    "\n",
    "train_sizes, train_scores, test_scores = learning_curve(\n",
    "    estimator=loaded_model_1, X=X_reduced_train, y=y_reduced_train, cv=5, train_sizes=np.linspace(0.1, 1.0, 10), scoring='accuracy', shuffle=True, random_state=29\n",
    ")\n",
    "train_mean = train_scores.mean(axis=1)\n",
    "test_mean = test_scores.mean(axis=1)\n",
    "\n",
    "plt.figure(figsize=(10, 6))\n",
    "plt.plot(train_sizes, train_mean, label='Training Accuracy', marker='o')\n",
    "plt.plot(train_sizes, test_mean, label='Validation Accuracy', marker='s')\n",
    "plt.title('Learning Curve')\n",
    "plt.xlabel('Training Set Size')\n",
    "plt.ylabel('Accuracy')\n",
    "plt.legend()\n",
    "plt.grid(True)\n",
    "plt.tight_layout()\n",
    "plt.show()"
   ]
  },
  {
   "cell_type": "code",
   "execution_count": null,
   "metadata": {},
   "outputs": [],
   "source": []
  },
  {
   "cell_type": "code",
   "execution_count": null,
   "metadata": {},
   "outputs": [],
   "source": []
  },
  {
   "cell_type": "code",
   "execution_count": 168,
   "metadata": {},
   "outputs": [
    {
     "name": "stdout",
     "output_type": "stream",
     "text": [
      "C:\\Users\\maxpd\\Desktop\\483 ML\\Intrusion Detection\\483-final-project-datasets\\ML_modeling_assignment\n"
     ]
    }
   ],
   "source": [
    "import os\n",
    "print(os.getcwd())"
   ]
  },
  {
   "cell_type": "code",
   "execution_count": null,
   "metadata": {},
   "outputs": [],
   "source": []
  }
 ],
 "metadata": {
  "kernelspec": {
   "display_name": "Python 3 (ipykernel)",
   "language": "python",
   "name": "python3"
  },
  "language_info": {
   "codemirror_mode": {
    "name": "ipython",
    "version": 3
   },
   "file_extension": ".py",
   "mimetype": "text/x-python",
   "name": "python",
   "nbconvert_exporter": "python",
   "pygments_lexer": "ipython3",
   "version": "3.12.6"
  }
 },
 "nbformat": 4,
 "nbformat_minor": 4
}

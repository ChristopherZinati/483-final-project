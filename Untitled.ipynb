{
 "cells": [
  {
   "cell_type": "markdown",
   "id": "92c62e16",
   "metadata": {},
   "source": [
    "**Data Cleaning**\n",
    "- delete rows with missing data\n",
    "- get rid of noisy data (in our case, all non-ddos anomalies)\n",
    "- drop the multiclass target label (since were only looking at ddos vs normal (1 or 0))"
   ]
  },
  {
   "cell_type": "code",
   "execution_count": null,
   "id": "6ebeae79",
   "metadata": {},
   "outputs": [
    {
     "name": "stdout",
     "output_type": "stream",
     "text": [
      "              src_ip  src_port        dst_ip  dst_port  flags  pktTotalCount  \\\n",
      "0       192.168.1.16     40656  192.168.1.17      4840      1              2   \n",
      "1       192.168.1.16     44854  192.168.1.18      4840      1              2   \n",
      "2       192.168.1.16     44854  192.168.1.18      4840      1              2   \n",
      "3       192.168.1.16     40656  192.168.1.17      4840      1              2   \n",
      "4       192.168.1.18     45388  192.168.1.16      4840      1              2   \n",
      "...              ...       ...           ...       ...    ...            ...   \n",
      "107628  192.168.1.22     60560  192.168.1.20      4840      1              2   \n",
      "107629  192.168.1.22     60560  192.168.1.20      4840      1              2   \n",
      "107630  192.168.1.22     48970  192.168.1.21      4840      1              2   \n",
      "107631  192.168.1.22     60560  192.168.1.20      4840      1              2   \n",
      "107632  192.168.1.22     48970  192.168.1.21      4840      1              2   \n",
      "\n",
      "        octetTotalCount  avg_ps  proto             service  ...  \\\n",
      "0                   219   109.5  OPCUA  StartRawConnection  ...   \n",
      "1                   219   109.5  OPCUA  StartRawConnection  ...   \n",
      "2                   399   199.5  OPCUA       SecureChannel  ...   \n",
      "3                   399   199.5  OPCUA       SecureChannel  ...   \n",
      "4                   219   109.5  OPCUA  StartRawConnection  ...   \n",
      "...                 ...     ...    ...                 ...  ...   \n",
      "107628              359   179.5  OPCUA           Attribute  ...   \n",
      "107629              358   179.0  OPCUA           Attribute  ...   \n",
      "107630              359   179.5  OPCUA           Attribute  ...   \n",
      "107631              359   179.5  OPCUA           Attribute  ...   \n",
      "107632              359   179.5  OPCUA           Attribute  ...   \n",
      "\n",
      "        same_srv_rate  dst_host_same_src_port_rate  f_pktTotalCount  \\\n",
      "0                 0.0                          0.0                1   \n",
      "1                 0.0                          0.0                1   \n",
      "2                 0.0                          0.0                1   \n",
      "3                 0.0                          0.0                1   \n",
      "4                 0.0                          0.0                1   \n",
      "...               ...                          ...              ...   \n",
      "107628          100.0                        100.0                1   \n",
      "107629          100.0                        100.0                1   \n",
      "107630          100.0                        100.0                1   \n",
      "107631          100.0                        100.0                1   \n",
      "107632          100.0                        100.0                1   \n",
      "\n",
      "        f_octetTotalCount   f_flowStart        f_rate  b_pktTotalCount  \\\n",
      "0                     125  1.583855e+09  1.250000e+19                1   \n",
      "1                     125  1.583855e+09  1.250000e+19                1   \n",
      "2                     198  1.583855e+09  1.980000e+19                1   \n",
      "3                     198  1.583855e+09  1.980000e+19                1   \n",
      "4                     125  1.583855e+09  1.250000e+19                1   \n",
      "...                   ...           ...           ...              ...   \n",
      "107628                197  1.583862e+09  1.970000e+19                1   \n",
      "107629                197  1.583862e+09  1.970000e+19                1   \n",
      "107630                197  1.583862e+09  1.970000e+19                1   \n",
      "107631                197  1.583862e+09  1.970000e+19                1   \n",
      "107632                197  1.583862e+09  1.970000e+19                1   \n",
      "\n",
      "        b_octetTotalCount   b_flowStart  label  \n",
      "0                      94  1.583855e+09      0  \n",
      "1                      94  1.583855e+09      0  \n",
      "2                     201  1.583855e+09      0  \n",
      "3                     201  1.583855e+09      0  \n",
      "4                      94  1.583855e+09      0  \n",
      "...                   ...           ...    ...  \n",
      "107628                162  1.583862e+09      0  \n",
      "107629                161  1.583862e+09      0  \n",
      "107630                162  1.583862e+09      0  \n",
      "107631                162  1.583862e+09      0  \n",
      "107632                162  1.583862e+09      0  \n",
      "\n",
      "[107578 rows x 31 columns]\n"
     ]
    }
   ],
   "source": [
    "import pandas as pd\n",
    "\n",
    "#it isn't reading just the relative path for some reason, so use the whole path\n",
    "df = pd.read_csv(\"/Users/chriszinati/Desktop/CPSC-483/final project datasets/483-final-project-datasets/OPCUA_dataset_public.csv\")\n",
    "\n",
    "df = df.dropna(axis=0) #drop rows with missing values\n",
    "\n",
    "instancesToDrop= ['MITM', 'Impersonation'] \n",
    "df = (df[df.multi_label.isin(instancesToDrop) == False]) #drop instances of MITM and Impersonation\n",
    "df = df.drop('multi_label', axis=1) #drop multiclass label\n",
    "print(df) #should be 107578 rows x 31 columns insetead of  107634 rows x 32 columns now\n",
    "\n"
   ]
  }
 ],
 "metadata": {
  "kernelspec": {
   "display_name": "Python 3 (ipykernel)",
   "language": "python",
   "name": "python3"
  },
  "language_info": {
   "codemirror_mode": {
    "name": "ipython",
    "version": 3
   },
   "file_extension": ".py",
   "mimetype": "text/x-python",
   "name": "python",
   "nbconvert_exporter": "python",
   "pygments_lexer": "ipython3",
   "version": "3.11.8"
  }
 },
 "nbformat": 4,
 "nbformat_minor": 5
}

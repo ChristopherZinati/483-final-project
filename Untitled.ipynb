{
 "cells": [
  {
   "cell_type": "code",
   "execution_count": 5,
   "id": "2914ead8-8f95-43f0-aaab-83e280e3fc03",
   "metadata": {},
   "outputs": [],
   "source": [
    "from pathlib import Path\n",
    "\n",
    "MAX_DATA_PATH = Path(\"C:/Users/maxpd/Desktop/483 ML/Intrusion Detection/483-final-project-datasets/OPCUA_dataset_public.csv\")\n",
    "CHRIS_DATA_PATH = Path(\"/Users/chriszinati/Desktop/CPSC-483/final project datasets/483-final-project-datasets/OPCUA_dataset_public.csv\")"
   ]
  },
  {
   "cell_type": "markdown",
   "id": "92c62e16",
   "metadata": {},
   "source": [
    "**Data Cleaning**\n",
    "- delete rows with missing data\n",
    "- get rid of noisy data (in our case, all non-ddos anomalies)\n",
    "- drop the multiclass target label (since were only looking at ddos vs normal (1 or 0))\n",
    "- dropped source and destination ip and port (useless features)"
   ]
  },
  {
   "cell_type": "code",
   "execution_count": 7,
   "id": "6ebeae79",
   "metadata": {},
   "outputs": [
    {
     "name": "stdout",
     "output_type": "stream",
     "text": [
      "        flags  pktTotalCount  octetTotalCount  avg_ps  proto  \\\n",
      "0           1              2              219   109.5  OPCUA   \n",
      "1           1              2              219   109.5  OPCUA   \n",
      "2           1              2              399   199.5  OPCUA   \n",
      "3           1              2              399   199.5  OPCUA   \n",
      "4           1              2              219   109.5  OPCUA   \n",
      "...       ...            ...              ...     ...    ...   \n",
      "107628      1              2              359   179.5  OPCUA   \n",
      "107629      1              2              358   179.0  OPCUA   \n",
      "107630      1              2              359   179.5  OPCUA   \n",
      "107631      1              2              359   179.5  OPCUA   \n",
      "107632      1              2              359   179.5  OPCUA   \n",
      "\n",
      "                   service  service_errors  status_errors  msg_size  \\\n",
      "0       StartRawConnection               0              0        87   \n",
      "1       StartRawConnection               0              0        87   \n",
      "2            SecureChannel               0              0       267   \n",
      "3            SecureChannel               0              0       267   \n",
      "4       StartRawConnection               0              0        87   \n",
      "...                    ...             ...            ...       ...   \n",
      "107628           Attribute               0              0       227   \n",
      "107629           Attribute               0              0       226   \n",
      "107630           Attribute               0              0       227   \n",
      "107631           Attribute               0              0       227   \n",
      "107632           Attribute               0              0       227   \n",
      "\n",
      "        min_msg_size  ...  same_srv_rate  dst_host_same_src_port_rate  \\\n",
      "0                 28  ...            0.0                          0.0   \n",
      "1                 28  ...            0.0                          0.0   \n",
      "2                132  ...            0.0                          0.0   \n",
      "3                132  ...            0.0                          0.0   \n",
      "4                 28  ...            0.0                          0.0   \n",
      "...              ...  ...            ...                          ...   \n",
      "107628            96  ...          100.0                        100.0   \n",
      "107629            95  ...          100.0                        100.0   \n",
      "107630            96  ...          100.0                        100.0   \n",
      "107631            96  ...          100.0                        100.0   \n",
      "107632            96  ...          100.0                        100.0   \n",
      "\n",
      "        f_pktTotalCount  f_octetTotalCount   f_flowStart        f_rate  \\\n",
      "0                     1                125  1.583855e+09  1.250000e+19   \n",
      "1                     1                125  1.583855e+09  1.250000e+19   \n",
      "2                     1                198  1.583855e+09  1.980000e+19   \n",
      "3                     1                198  1.583855e+09  1.980000e+19   \n",
      "4                     1                125  1.583855e+09  1.250000e+19   \n",
      "...                 ...                ...           ...           ...   \n",
      "107628                1                197  1.583862e+09  1.970000e+19   \n",
      "107629                1                197  1.583862e+09  1.970000e+19   \n",
      "107630                1                197  1.583862e+09  1.970000e+19   \n",
      "107631                1                197  1.583862e+09  1.970000e+19   \n",
      "107632                1                197  1.583862e+09  1.970000e+19   \n",
      "\n",
      "        b_pktTotalCount  b_octetTotalCount   b_flowStart  label  \n",
      "0                     1                 94  1.583855e+09      0  \n",
      "1                     1                 94  1.583855e+09      0  \n",
      "2                     1                201  1.583855e+09      0  \n",
      "3                     1                201  1.583855e+09      0  \n",
      "4                     1                 94  1.583855e+09      0  \n",
      "...                 ...                ...           ...    ...  \n",
      "107628                1                162  1.583862e+09      0  \n",
      "107629                1                161  1.583862e+09      0  \n",
      "107630                1                162  1.583862e+09      0  \n",
      "107631                1                162  1.583862e+09      0  \n",
      "107632                1                162  1.583862e+09      0  \n",
      "\n",
      "[107578 rows x 27 columns]\n"
     ]
    }
   ],
   "source": [
    "import pandas as pd\n",
    "\n",
    "#it isn't reading just the relative path for some reason, so use the whole path\n",
    "df = pd.read_csv(MAX_DATA_PATH)\n",
    "df = df.dropna(axis=0) #drop rows with missing values\n",
    "\n",
    "instancesToDrop= ['MITM', 'Impersonation'] \n",
    "df = (df[df.multi_label.isin(instancesToDrop) == False]) #drop instances of MITM and Impersonation\n",
    "df = df.drop('multi_label', axis=1) #drop multiclass label\n",
    "df = df.drop('src_ip', axis=1) #drop source ip label\n",
    "df = df.drop('src_port', axis=1) #drop source port label\n",
    "df = df.drop('dst_ip', axis=1) #drop destination ip label\n",
    "df = df.drop('dst_port', axis=1) #drop destination port label\n",
    "print(df) #should be 107578 rows x 27 columns insetead of  107634 rows x 32 columns now\n",
    "\n"
   ]
  },
  {
   "cell_type": "code",
   "execution_count": null,
   "id": "f3d571fc-3fab-4c3f-8d62-9e0a9bf81942",
   "metadata": {},
   "outputs": [],
   "source": []
  }
 ],
 "metadata": {
  "kernelspec": {
   "display_name": "Python 3 (ipykernel)",
   "language": "python",
   "name": "python3"
  },
  "language_info": {
   "codemirror_mode": {
    "name": "ipython",
    "version": 3
   },
   "file_extension": ".py",
   "mimetype": "text/x-python",
   "name": "python",
   "nbconvert_exporter": "python",
   "pygments_lexer": "ipython3",
   "version": "3.12.6"
  }
 },
 "nbformat": 4,
 "nbformat_minor": 5
}
